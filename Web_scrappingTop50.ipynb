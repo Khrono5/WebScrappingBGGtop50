{
 "cells": [
  {
   "cell_type": "code",
   "execution_count": 1,
   "id": "e97ae7b2",
   "metadata": {},
   "outputs": [],
   "source": [
    "import pandas as pd\n",
    "import urllib.request\n",
    "from bs4 import BeautifulSoup as bs\n",
    "import requests\n",
    "import re\n",
    "import dateutil.parser as dparser\n",
    "from bs4 import NavigableString\n",
    "import time"
   ]
  },
  {
   "cell_type": "code",
   "execution_count": 2,
   "id": "71759e43",
   "metadata": {},
   "outputs": [],
   "source": [
    "%run ./customFunc.ipynb"
   ]
  },
  {
   "cell_type": "code",
   "execution_count": 3,
   "id": "38f6bc8c",
   "metadata": {},
   "outputs": [],
   "source": [
    "url = \"https://boardgamegeek.com/xmlapi/geeklist/30543\"\n",
    "xml_data=requests.get(url).content\n",
    "soup=bs(xml_data, \"xml\")"
   ]
  },
  {
   "cell_type": "code",
   "execution_count": 4,
   "id": "71dc70a5",
   "metadata": {},
   "outputs": [],
   "source": [
    "forumID =[]\n",
    "for item in soup.findAll('item'):\n",
    "    objectidloc=str(item).split('objectid=')[1]\n",
    "    objectid=objectidloc.split('\"')[1]\n",
    "    if str(item).find('Overview')<0:\n",
    "        forumID.append(objectid)\n",
    "\n",
    "    \n",
    "    "
   ]
  },
  {
   "cell_type": "code",
   "execution_count": 5,
   "id": "2ee13bbf",
   "metadata": {
    "scrolled": true
   },
   "outputs": [
    {
     "data": {
      "text/plain": [
       "197"
      ]
     },
     "execution_count": 5,
     "metadata": {},
     "output_type": "execute_result"
    }
   ],
   "source": [
    "len(forumID)\n"
   ]
  },
  {
   "cell_type": "code",
   "execution_count": 6,
   "id": "ab25b782",
   "metadata": {},
   "outputs": [],
   "source": [
    "df=pd.DataFrame(columns=['Name', 'Rank', 'Rating', 'Votes', 'Owners', 'Plays', 'Date'])\n",
    "for ID in forumID[:100]:\n",
    "    forumURL='https://boardgamegeek.com/xmlapi/geeklist/'+ID\n",
    "    xml_data2=requests.get(forumURL).content\n",
    "    soup2=bs(xml_data2, \"xml\")\n",
    "    try:\n",
    "        date=extractDate(soup2)\n",
    "        time.sleep(3)\n",
    "        for item in soup2.findAll('item')[:50]:\n",
    "            objectname=extractName(item)\n",
    "            l=extractNum(item)\n",
    "            df=pd.concat([df,makeRankInfo(l, objectname,date)], ignore_index=True)\n",
    "    except:\n",
    "           print(forumURL)\n",
    "            "
   ]
  },
  {
   "cell_type": "code",
   "execution_count": 7,
   "id": "354d8a77",
   "metadata": {},
   "outputs": [],
   "source": [
    "df2=pd.DataFrame(columns=['Name', 'Rank', 'Rating', 'Votes', 'Owners', 'Plays', 'Date'])\n",
    "for ID in forumID[100:]:\n",
    "    forumURL='https://boardgamegeek.com/xmlapi/geeklist/'+ID\n",
    "    xml_data2=requests.get(forumURL).content\n",
    "    soup2=bs(xml_data2, \"xml\")\n",
    "    try:\n",
    "        date=extractDate(soup2)\n",
    "        time.sleep(3)\n",
    "        for item in soup2.findAll('item')[:50]:\n",
    "            objectname=extractName(item)\n",
    "            l=extractNum(item)\n",
    "            df2=pd.concat([df2,makeRankInfo(l, objectname,date)], ignore_index=True)\n",
    "    except:\n",
    "           print(forumURL)\n",
    "            "
   ]
  },
  {
   "cell_type": "code",
   "execution_count": 8,
   "id": "588e749b",
   "metadata": {},
   "outputs": [],
   "source": [
    "df=pd.concat([df, df2], ignore_index=True)"
   ]
  },
  {
   "cell_type": "code",
   "execution_count": 9,
   "id": "a8f78d97",
   "metadata": {},
   "outputs": [],
   "source": [
    "df.to_csv('top50.csv', encoding='utf-8', index=False) "
   ]
  },
  {
   "cell_type": "code",
   "execution_count": null,
   "id": "98c100cb",
   "metadata": {},
   "outputs": [],
   "source": []
  },
  {
   "cell_type": "code",
   "execution_count": null,
   "id": "8a8a19c8",
   "metadata": {},
   "outputs": [],
   "source": []
  }
 ],
 "metadata": {
  "kernelspec": {
   "display_name": "Python 3 (ipykernel)",
   "language": "python",
   "name": "python3"
  },
  "language_info": {
   "codemirror_mode": {
    "name": "ipython",
    "version": 3
   },
   "file_extension": ".py",
   "mimetype": "text/x-python",
   "name": "python",
   "nbconvert_exporter": "python",
   "pygments_lexer": "ipython3",
   "version": "3.9.16"
  }
 },
 "nbformat": 4,
 "nbformat_minor": 5
}
