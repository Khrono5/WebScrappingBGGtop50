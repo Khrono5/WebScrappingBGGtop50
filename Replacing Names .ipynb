{
 "cells": [
  {
   "cell_type": "code",
   "execution_count": 1,
   "id": "98835066",
   "metadata": {},
   "outputs": [],
   "source": [
    "import csv\n",
    "import pandas as pd\n",
    "import numpy as np\n",
    "import matplotlib.pyplot as plt\n",
    "import seaborn as sns\n",
    "import math\n",
    "import re"
   ]
  },
  {
   "cell_type": "code",
   "execution_count": 2,
   "id": "fd0467a9",
   "metadata": {},
   "outputs": [],
   "source": [
    "top50=pd.read_csv(r'.\\top50.csv')"
   ]
  },
  {
   "cell_type": "code",
   "execution_count": 3,
   "id": "d8139d6f",
   "metadata": {},
   "outputs": [],
   "source": [
    "top50=top50.replace('CATAN','Catan')"
   ]
  },
  {
   "cell_type": "code",
   "execution_count": 4,
   "id": "e454caea",
   "metadata": {},
   "outputs": [],
   "source": [
    "top50=top50.replace('Clank! Legacy: Acquisitions Incorporated','Clank!: Legacy – Acquisitions Incorporated')"
   ]
  },
  {
   "cell_type": "code",
   "execution_count": 5,
   "id": "1c29d473",
   "metadata": {},
   "outputs": [],
   "source": [
    "top50=top50.replace('Conflict of Heroes: Awakening the Bear! â€“ Russia 1941-42','Conflict of Heroes: Awakening the Bear! – Russia 1941-42')"
   ]
  },
  {
   "cell_type": "code",
   "execution_count": 6,
   "id": "fe14b976",
   "metadata": {},
   "outputs": [],
   "source": [
    "top50=top50.replace('OrlÃ©ans', 'Orléans')"
   ]
  },
  {
   "cell_type": "code",
   "execution_count": 7,
   "id": "42928cf8",
   "metadata": {},
   "outputs": [],
   "source": [
    "top50=top50.replace('Roads &amp; Boats', 'Roads & Boats')"
   ]
  },
  {
   "cell_type": "code",
   "execution_count": 8,
   "id": "646251ab",
   "metadata": {},
   "outputs": [],
   "source": [
    "top50=top50.replace('Ticket to Ride: MÃ¤rklin', 'Ticket to Ride: Märklin')"
   ]
  },
  {
   "cell_type": "code",
   "execution_count": 9,
   "id": "404fe96a",
   "metadata": {},
   "outputs": [],
   "source": [
    "top50=top50.replace('Tigris &amp; Euphrates', 'Tigris & Euphrates')"
   ]
  },
  {
   "cell_type": "code",
   "execution_count": 10,
   "id": "528fa574",
   "metadata": {},
   "outputs": [],
   "source": [
    "top50=top50.replace('Twilight Imperium: Third Edition', 'Twilight Imperium (Third Edition)')"
   ]
  },
  {
   "cell_type": "code",
   "execution_count": 11,
   "id": "8cf9b8e7",
   "metadata": {},
   "outputs": [],
   "source": [
    "top50=top50.replace('Twilight Imperium: Fourth Edition','Twilight Imperium (Fourth Edition)')"
   ]
  },
  {
   "cell_type": "code",
   "execution_count": 12,
   "id": "a7897d9b",
   "metadata": {},
   "outputs": [],
   "source": [
    "top50=top50.replace('War of the Ring: Second Edition','War of the Ring (Second Edition)')"
   ]
  },
  {
   "cell_type": "code",
   "execution_count": 13,
   "id": "0ed603d0",
   "metadata": {},
   "outputs": [],
   "source": [
    "top50=top50.replace('Commands &amp; Colors: Ancients', 'Commands & Colors: Ancients')"
   ]
  },
  {
   "cell_type": "code",
   "execution_count": 14,
   "id": "9a9f6bb9",
   "metadata": {},
   "outputs": [],
   "source": [
    "top50.to_csv('top50.csv', encoding='utf-8', index=False) "
   ]
  },
  {
   "cell_type": "code",
   "execution_count": null,
   "id": "a27f0ce9",
   "metadata": {},
   "outputs": [],
   "source": []
  }
 ],
 "metadata": {
  "kernelspec": {
   "display_name": "Python 3 (ipykernel)",
   "language": "python",
   "name": "python3"
  },
  "language_info": {
   "codemirror_mode": {
    "name": "ipython",
    "version": 3
   },
   "file_extension": ".py",
   "mimetype": "text/x-python",
   "name": "python",
   "nbconvert_exporter": "python",
   "pygments_lexer": "ipython3",
   "version": "3.9.16"
  }
 },
 "nbformat": 4,
 "nbformat_minor": 5
}
