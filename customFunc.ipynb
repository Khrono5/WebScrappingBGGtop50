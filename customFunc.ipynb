{
 "cells": [
  {
   "cell_type": "code",
   "execution_count": 1,
   "id": "5960ca11",
   "metadata": {},
   "outputs": [],
   "source": [
    "def makeRankInfo(l, objectname, date):\n",
    "        data={'Name' : [objectname], 'Rank' : [l[0]], 'Rating' : [l[1]], 'Votes' : [l[2]], 'Owners' : [l[3]], 'Plays' : [l[4]], 'Date': date}\n",
    "        df2=pd.DataFrame(data)     \n",
    "        return df2\n",
    "    \n",
    "def extractNum(item):\n",
    "    splitstr=str(item).replace('none', '0').replace(',','.')\n",
    "    strRemove=['[b]','</body>', '(' , ')' , '[' , ']' , '[/b]']\n",
    "    for char in strRemove:\n",
    "        splitstr=splitstr.replace(char, ' ')\n",
    "    l = []\n",
    "    cats= ['Ranking', 'Rating', 'Votes', 'Owners', 'Plays']\n",
    "    catse= cats+['=']\n",
    "    for cat in cats:\n",
    "        splitstr2=splitstr.split(cat)[1]\n",
    "        k=[]\n",
    "        for t in splitstr2.split():\n",
    "            try:\n",
    "                k.append(float(t))\n",
    "            except ValueError:\n",
    "                if t in catse:\n",
    "                    break\n",
    "                pass\n",
    "        if len(k)==1:\n",
    "            l.append(k[0])\n",
    "        else:\n",
    "            l.append(k[1])\n",
    "    return l;\n",
    "\n",
    "def extractName(item):\n",
    "    objectnameloc1=str(item).find('objectname')\n",
    "    objectnameloc2=str(item).find('objecttype')\n",
    "    objectname=str(item)[objectnameloc1+12:objectnameloc2-2]\n",
    "    return objectname\n",
    "    \n",
    "def extractDate(soup):\n",
    "    extractdate=str(soup.findAll('title')).replace('</title>]', ' ').split('to')[1]\n",
    "    date=dparser.parse(extractdate, fuzzy=True)\n",
    "    return date"
   ]
  },
  {
   "cell_type": "code",
   "execution_count": null,
   "id": "a1e06dab",
   "metadata": {},
   "outputs": [],
   "source": []
  }
 ],
 "metadata": {
  "kernelspec": {
   "display_name": "Python 3 (ipykernel)",
   "language": "python",
   "name": "python3"
  },
  "language_info": {
   "codemirror_mode": {
    "name": "ipython",
    "version": 3
   },
   "file_extension": ".py",
   "mimetype": "text/x-python",
   "name": "python",
   "nbconvert_exporter": "python",
   "pygments_lexer": "ipython3",
   "version": "3.9.16"
  }
 },
 "nbformat": 4,
 "nbformat_minor": 5
}
